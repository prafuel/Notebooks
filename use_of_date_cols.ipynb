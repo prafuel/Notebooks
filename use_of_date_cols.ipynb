{
 "cells": [
  {
   "cell_type": "code",
   "execution_count": 1,
   "id": "e6598f01-f6f7-481d-8bcb-622a06253155",
   "metadata": {},
   "outputs": [],
   "source": [
    "import pandas as pd\n",
    "import numpy as np\n",
    "from matplotlib import pyplot as plt\n",
    "import seaborn as sns"
   ]
  },
  {
   "cell_type": "code",
   "execution_count": 21,
   "id": "b4a19ac7-f87b-4206-94b2-81638195e32c",
   "metadata": {},
   "outputs": [],
   "source": [
    "df = pd.read_csv(\"./datasets/reviews.csv\", usecols=['SKU', 'PRICE', 'DATE_OF_CREATION', 'LAST_UPDATED_DATE', 'STATES'], parse_dates=['DATE_OF_CREATION', 'LAST_UPDATED_DATE'])"
   ]
  },
  {
   "cell_type": "code",
   "execution_count": 24,
   "id": "e0244c76-279b-49be-bad6-a1c3bfdee0b3",
   "metadata": {},
   "outputs": [],
   "source": [
    "# or to convert object into datetime -> pd.to_datetime(df['column_name'])"
   ]
  },
  {
   "cell_type": "code",
   "execution_count": 25,
   "id": "34859fac-e8ae-453c-aaf7-e2a1fc7cabe1",
   "metadata": {},
   "outputs": [
    {
     "data": {
      "text/html": [
       "<div>\n",
       "<style scoped>\n",
       "    .dataframe tbody tr th:only-of-type {\n",
       "        vertical-align: middle;\n",
       "    }\n",
       "\n",
       "    .dataframe tbody tr th {\n",
       "        vertical-align: top;\n",
       "    }\n",
       "\n",
       "    .dataframe thead th {\n",
       "        text-align: right;\n",
       "    }\n",
       "</style>\n",
       "<table border=\"1\" class=\"dataframe\">\n",
       "  <thead>\n",
       "    <tr style=\"text-align: right;\">\n",
       "      <th></th>\n",
       "      <th>SKU</th>\n",
       "      <th>PRICE</th>\n",
       "      <th>DATE_OF_CREATION</th>\n",
       "      <th>LAST_UPDATED_DATE</th>\n",
       "      <th>STATES</th>\n",
       "    </tr>\n",
       "  </thead>\n",
       "  <tbody>\n",
       "    <tr>\n",
       "      <th>0</th>\n",
       "      <td>8904417301922</td>\n",
       "      <td>499.00</td>\n",
       "      <td>2022-09-13</td>\n",
       "      <td>2022-09-19</td>\n",
       "      <td>Uttar Pradesh</td>\n",
       "    </tr>\n",
       "    <tr>\n",
       "      <th>1</th>\n",
       "      <td>8904417301915</td>\n",
       "      <td>499.00</td>\n",
       "      <td>2022-09-13</td>\n",
       "      <td>2022-09-19</td>\n",
       "      <td>Arunachal Pradesh</td>\n",
       "    </tr>\n",
       "    <tr>\n",
       "      <th>2</th>\n",
       "      <td>8904417301908</td>\n",
       "      <td>499.00</td>\n",
       "      <td>2022-09-13</td>\n",
       "      <td>2022-09-19</td>\n",
       "      <td>Karnataka</td>\n",
       "    </tr>\n",
       "    <tr>\n",
       "      <th>3</th>\n",
       "      <td>8904417301892</td>\n",
       "      <td>499.00</td>\n",
       "      <td>2022-09-13</td>\n",
       "      <td>2022-09-19</td>\n",
       "      <td>Gujarat</td>\n",
       "    </tr>\n",
       "    <tr>\n",
       "      <th>4</th>\n",
       "      <td>8904417303377</td>\n",
       "      <td>498.00</td>\n",
       "      <td>2022-09-01</td>\n",
       "      <td>2022-09-12</td>\n",
       "      <td>Madhya Pradesh</td>\n",
       "    </tr>\n",
       "  </tbody>\n",
       "</table>\n",
       "</div>"
      ],
      "text/plain": [
       "             SKU   PRICE DATE_OF_CREATION LAST_UPDATED_DATE             STATES\n",
       "0  8904417301922  499.00       2022-09-13        2022-09-19      Uttar Pradesh\n",
       "1  8904417301915  499.00       2022-09-13        2022-09-19  Arunachal Pradesh\n",
       "2  8904417301908  499.00       2022-09-13        2022-09-19          Karnataka\n",
       "3  8904417301892  499.00       2022-09-13        2022-09-19            Gujarat\n",
       "4  8904417303377  498.00       2022-09-01        2022-09-12     Madhya Pradesh"
      ]
     },
     "execution_count": 25,
     "metadata": {},
     "output_type": "execute_result"
    }
   ],
   "source": [
    "df.head()"
   ]
  },
  {
   "cell_type": "code",
   "execution_count": 26,
   "id": "a06a6ca2-b060-461c-8e47-bee625e9d39f",
   "metadata": {},
   "outputs": [
    {
     "name": "stdout",
     "output_type": "stream",
     "text": [
      "<class 'pandas.core.frame.DataFrame'>\n",
      "RangeIndex: 31814 entries, 0 to 31813\n",
      "Data columns (total 5 columns):\n",
      " #   Column             Non-Null Count  Dtype         \n",
      "---  ------             --------------  -----         \n",
      " 0   SKU                31814 non-null  object        \n",
      " 1   PRICE              31814 non-null  object        \n",
      " 2   DATE_OF_CREATION   31814 non-null  datetime64[ns]\n",
      " 3   LAST_UPDATED_DATE  31814 non-null  datetime64[ns]\n",
      " 4   STATES             31814 non-null  object        \n",
      "dtypes: datetime64[ns](2), object(3)\n",
      "memory usage: 1.2+ MB\n"
     ]
    }
   ],
   "source": [
    "df.info()"
   ]
  },
  {
   "cell_type": "code",
   "execution_count": 33,
   "id": "04085427-922a-4809-83bc-1ef9eaad9d0d",
   "metadata": {},
   "outputs": [
    {
     "data": {
      "text/plain": [
       "0        2022\n",
       "1        2022\n",
       "2        2022\n",
       "3        2022\n",
       "4        2022\n",
       "         ... \n",
       "31809    2021\n",
       "31810    2021\n",
       "31811    2021\n",
       "31812    2021\n",
       "31813    2021\n",
       "Name: DATE_OF_CREATION, Length: 31814, dtype: int32"
      ]
     },
     "execution_count": 33,
     "metadata": {},
     "output_type": "execute_result"
    }
   ],
   "source": [
    "# to extract year,month or day from datetime\n",
    "# df['name'].dt.<year | month | day>\n",
    "df['DATE_OF_CREATION'].dt.year"
   ]
  },
  {
   "cell_type": "code",
   "execution_count": 35,
   "id": "d379dfb2-aae8-4820-9bd9-4ceaf457766c",
   "metadata": {},
   "outputs": [
    {
     "data": {
      "text/plain": [
       "0        September\n",
       "1        September\n",
       "2        September\n",
       "3        September\n",
       "4        September\n",
       "           ...    \n",
       "31809        March\n",
       "31810        March\n",
       "31811        March\n",
       "31812        March\n",
       "31813        March\n",
       "Name: DATE_OF_CREATION, Length: 31814, dtype: object"
      ]
     },
     "execution_count": 35,
     "metadata": {},
     "output_type": "execute_result"
    }
   ],
   "source": [
    "# to extract month name from its number\n",
    "df['DATE_OF_CREATION'].dt.month_name()"
   ]
  },
  {
   "cell_type": "code",
   "execution_count": 38,
   "id": "197d92c4-9c2a-4e9c-8a25-87dce6348d52",
   "metadata": {},
   "outputs": [
    {
     "data": {
      "text/plain": [
       "0        1\n",
       "1        1\n",
       "2        1\n",
       "3        1\n",
       "4        3\n",
       "        ..\n",
       "31809    3\n",
       "31810    3\n",
       "31811    3\n",
       "31812    3\n",
       "31813    3\n",
       "Name: DATE_OF_CREATION, Length: 31814, dtype: int32"
      ]
     },
     "execution_count": 38,
     "metadata": {},
     "output_type": "execute_result"
    }
   ],
   "source": [
    "# day of week\n",
    "df['DATE_OF_CREATION'].dt.dayofweek"
   ]
  },
  {
   "cell_type": "code",
   "execution_count": 41,
   "id": "02a7b2d5-846a-4436-930a-e846659fefb8",
   "metadata": {},
   "outputs": [
    {
     "data": {
      "text/plain": [
       "0         Tuesday\n",
       "1         Tuesday\n",
       "2         Tuesday\n",
       "3         Tuesday\n",
       "4        Thursday\n",
       "           ...   \n",
       "31809    Thursday\n",
       "31810    Thursday\n",
       "31811    Thursday\n",
       "31812    Thursday\n",
       "31813    Thursday\n",
       "Name: DATE_OF_CREATION, Length: 31814, dtype: object"
      ]
     },
     "execution_count": 41,
     "metadata": {},
     "output_type": "execute_result"
    }
   ],
   "source": [
    "# day of week\n",
    "df['DATE_OF_CREATION'].dt.day_name()"
   ]
  },
  {
   "cell_type": "code",
   "execution_count": 49,
   "id": "30614315-331c-4d17-8932-b754d3b80371",
   "metadata": {},
   "outputs": [],
   "source": [
    "df['DAY_NAME'] = df['DATE_OF_CREATION'].dt.day_name()"
   ]
  },
  {
   "cell_type": "code",
   "execution_count": 58,
   "id": "2c9d9d7b-f7e4-4cc4-9cea-7a07895f9499",
   "metadata": {},
   "outputs": [],
   "source": [
    "# df['DAY_NAME'].isin(['Sunday','Saturday'])\n",
    "df['DATE_IS_WEEKEND'] = np.where(df['DAY_NAME'].isin(['Sunday','Saturday']), 1,0)"
   ]
  },
  {
   "cell_type": "code",
   "execution_count": 94,
   "id": "64664d63-f326-449a-a47f-f1a23a5e6614",
   "metadata": {},
   "outputs": [
    {
     "data": {
      "text/html": [
       "<div>\n",
       "<style scoped>\n",
       "    .dataframe tbody tr th:only-of-type {\n",
       "        vertical-align: middle;\n",
       "    }\n",
       "\n",
       "    .dataframe tbody tr th {\n",
       "        vertical-align: top;\n",
       "    }\n",
       "\n",
       "    .dataframe thead th {\n",
       "        text-align: right;\n",
       "    }\n",
       "</style>\n",
       "<table border=\"1\" class=\"dataframe\">\n",
       "  <thead>\n",
       "    <tr style=\"text-align: right;\">\n",
       "      <th></th>\n",
       "      <th>SKU</th>\n",
       "      <th>PRICE</th>\n",
       "      <th>DATE_OF_CREATION</th>\n",
       "      <th>LAST_UPDATED_DATE</th>\n",
       "      <th>STATES</th>\n",
       "      <th>DAY_NAME</th>\n",
       "      <th>DATE_IS_WEEKEND</th>\n",
       "    </tr>\n",
       "  </thead>\n",
       "  <tbody>\n",
       "    <tr>\n",
       "      <th>0</th>\n",
       "      <td>8904417301922</td>\n",
       "      <td>499.00</td>\n",
       "      <td>2022-09-13</td>\n",
       "      <td>2022-09-19</td>\n",
       "      <td>Uttar Pradesh</td>\n",
       "      <td>Tuesday</td>\n",
       "      <td>0</td>\n",
       "    </tr>\n",
       "    <tr>\n",
       "      <th>1</th>\n",
       "      <td>8904417301915</td>\n",
       "      <td>499.00</td>\n",
       "      <td>2022-09-13</td>\n",
       "      <td>2022-09-19</td>\n",
       "      <td>Arunachal Pradesh</td>\n",
       "      <td>Tuesday</td>\n",
       "      <td>0</td>\n",
       "    </tr>\n",
       "    <tr>\n",
       "      <th>2</th>\n",
       "      <td>8904417301908</td>\n",
       "      <td>499.00</td>\n",
       "      <td>2022-09-13</td>\n",
       "      <td>2022-09-19</td>\n",
       "      <td>Karnataka</td>\n",
       "      <td>Tuesday</td>\n",
       "      <td>0</td>\n",
       "    </tr>\n",
       "    <tr>\n",
       "      <th>3</th>\n",
       "      <td>8904417301892</td>\n",
       "      <td>499.00</td>\n",
       "      <td>2022-09-13</td>\n",
       "      <td>2022-09-19</td>\n",
       "      <td>Gujarat</td>\n",
       "      <td>Tuesday</td>\n",
       "      <td>0</td>\n",
       "    </tr>\n",
       "    <tr>\n",
       "      <th>4</th>\n",
       "      <td>8904417303377</td>\n",
       "      <td>498.00</td>\n",
       "      <td>2022-09-01</td>\n",
       "      <td>2022-09-12</td>\n",
       "      <td>Madhya Pradesh</td>\n",
       "      <td>Thursday</td>\n",
       "      <td>0</td>\n",
       "    </tr>\n",
       "  </tbody>\n",
       "</table>\n",
       "</div>"
      ],
      "text/plain": [
       "             SKU   PRICE DATE_OF_CREATION LAST_UPDATED_DATE  \\\n",
       "0  8904417301922  499.00       2022-09-13        2022-09-19   \n",
       "1  8904417301915  499.00       2022-09-13        2022-09-19   \n",
       "2  8904417301908  499.00       2022-09-13        2022-09-19   \n",
       "3  8904417301892  499.00       2022-09-13        2022-09-19   \n",
       "4  8904417303377  498.00       2022-09-01        2022-09-12   \n",
       "\n",
       "              STATES  DAY_NAME  DATE_IS_WEEKEND  \n",
       "0      Uttar Pradesh   Tuesday                0  \n",
       "1  Arunachal Pradesh   Tuesday                0  \n",
       "2          Karnataka   Tuesday                0  \n",
       "3            Gujarat   Tuesday                0  \n",
       "4     Madhya Pradesh  Thursday                0  "
      ]
     },
     "execution_count": 94,
     "metadata": {},
     "output_type": "execute_result"
    }
   ],
   "source": [
    "df.head()"
   ]
  },
  {
   "cell_type": "code",
   "execution_count": null,
   "id": "8b0bc724-69bb-47ac-ae13-f54a049cbdca",
   "metadata": {},
   "outputs": [],
   "source": []
  }
 ],
 "metadata": {
  "kernelspec": {
   "display_name": "Python 3 (ipykernel)",
   "language": "python",
   "name": "python3"
  },
  "language_info": {
   "codemirror_mode": {
    "name": "ipython",
    "version": 3
   },
   "file_extension": ".py",
   "mimetype": "text/x-python",
   "name": "python",
   "nbconvert_exporter": "python",
   "pygments_lexer": "ipython3",
   "version": "3.10.12"
  }
 },
 "nbformat": 4,
 "nbformat_minor": 5
}
