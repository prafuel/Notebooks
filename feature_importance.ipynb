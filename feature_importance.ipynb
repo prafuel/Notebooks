{
 "cells": [
  {
   "cell_type": "code",
   "execution_count": 1,
   "id": "09563823-35b8-48bc-a09c-bfe0a344ab01",
   "metadata": {},
   "outputs": [
    {
     "name": "stderr",
     "output_type": "stream",
     "text": [
      "2024-06-27 22:27:50.904050: E external/local_xla/xla/stream_executor/cuda/cuda_dnn.cc:9261] Unable to register cuDNN factory: Attempting to register factory for plugin cuDNN when one has already been registered\n",
      "2024-06-27 22:27:50.904106: E external/local_xla/xla/stream_executor/cuda/cuda_fft.cc:607] Unable to register cuFFT factory: Attempting to register factory for plugin cuFFT when one has already been registered\n",
      "2024-06-27 22:27:50.905673: E external/local_xla/xla/stream_executor/cuda/cuda_blas.cc:1515] Unable to register cuBLAS factory: Attempting to register factory for plugin cuBLAS when one has already been registered\n",
      "2024-06-27 22:27:50.914158: I tensorflow/core/platform/cpu_feature_guard.cc:182] This TensorFlow binary is optimized to use available CPU instructions in performance-critical operations.\n",
      "To enable the following instructions: AVX2 FMA, in other operations, rebuild TensorFlow with the appropriate compiler flags.\n",
      "2024-06-27 22:27:51.949671: W tensorflow/compiler/tf2tensorrt/utils/py_utils.cc:38] TF-TRT Warning: Could not find TensorRT\n"
     ]
    }
   ],
   "source": [
    "from keras.datasets import mnist"
   ]
  },
  {
   "cell_type": "code",
   "execution_count": 2,
   "id": "43388d90-a542-4fa8-a065-ebf5efb335b5",
   "metadata": {},
   "outputs": [],
   "source": [
    "import pandas as pd\n",
    "import numpy as np\n",
    "from matplotlib import pyplot as plt\n",
    "import seaborn as sns"
   ]
  },
  {
   "cell_type": "code",
   "execution_count": 3,
   "id": "519b0296-2bbc-4a65-b708-4d356770d56f",
   "metadata": {},
   "outputs": [],
   "source": [
    "from sklearn.metrics import classification_report"
   ]
  },
  {
   "cell_type": "code",
   "execution_count": 4,
   "id": "8fbaceac-337d-4caf-bf1d-c6b8ec31fe73",
   "metadata": {},
   "outputs": [],
   "source": [
    "(X_train, y_train), (X_test, y_test) = mnist.load_data()"
   ]
  },
  {
   "cell_type": "code",
   "execution_count": 5,
   "id": "eec984ff-d541-4f78-8865-d9d932a8da1d",
   "metadata": {},
   "outputs": [
    {
     "data": {
      "text/plain": [
       "(60000, 28, 28)"
      ]
     },
     "execution_count": 5,
     "metadata": {},
     "output_type": "execute_result"
    }
   ],
   "source": [
    "X_train.shape"
   ]
  },
  {
   "cell_type": "code",
   "execution_count": 6,
   "id": "3a12bac5-0ad7-48c4-afb5-92be020a4b88",
   "metadata": {},
   "outputs": [],
   "source": [
    "X_train_encoded = X_train.reshape(X_train.shape[0], 784)\n",
    "X_test_encoded = X_test.reshape(X_test.shape[0], 784)"
   ]
  },
  {
   "cell_type": "code",
   "execution_count": 7,
   "id": "b46522de-9a69-4b71-aa61-8b0764e79d2d",
   "metadata": {},
   "outputs": [],
   "source": [
    "df = pd.DataFrame(X_train_encoded)"
   ]
  },
  {
   "cell_type": "code",
   "execution_count": null,
   "id": "899caf7c-c96c-4d54-9343-1ff2ddb38acf",
   "metadata": {},
   "outputs": [],
   "source": []
  },
  {
   "cell_type": "code",
   "execution_count": 32,
   "id": "8a75fc96-a6a4-43dd-a5da-d537dfbebaa5",
   "metadata": {},
   "outputs": [],
   "source": [
    "from sklearn.tree import DecisionTreeClassifier"
   ]
  },
  {
   "cell_type": "code",
   "execution_count": 33,
   "id": "e9e6916d-1e9e-42de-b190-98cfc7266768",
   "metadata": {},
   "outputs": [],
   "source": [
    "dt = DecisionTreeClassifier(max_depth=None)"
   ]
  },
  {
   "cell_type": "code",
   "execution_count": 34,
   "id": "622136c8-08ab-4fba-a186-07c2830ac567",
   "metadata": {},
   "outputs": [
    {
     "data": {
      "text/html": [
       "<style>#sk-container-id-2 {color: black;}#sk-container-id-2 pre{padding: 0;}#sk-container-id-2 div.sk-toggleable {background-color: white;}#sk-container-id-2 label.sk-toggleable__label {cursor: pointer;display: block;width: 100%;margin-bottom: 0;padding: 0.3em;box-sizing: border-box;text-align: center;}#sk-container-id-2 label.sk-toggleable__label-arrow:before {content: \"▸\";float: left;margin-right: 0.25em;color: #696969;}#sk-container-id-2 label.sk-toggleable__label-arrow:hover:before {color: black;}#sk-container-id-2 div.sk-estimator:hover label.sk-toggleable__label-arrow:before {color: black;}#sk-container-id-2 div.sk-toggleable__content {max-height: 0;max-width: 0;overflow: hidden;text-align: left;background-color: #f0f8ff;}#sk-container-id-2 div.sk-toggleable__content pre {margin: 0.2em;color: black;border-radius: 0.25em;background-color: #f0f8ff;}#sk-container-id-2 input.sk-toggleable__control:checked~div.sk-toggleable__content {max-height: 200px;max-width: 100%;overflow: auto;}#sk-container-id-2 input.sk-toggleable__control:checked~label.sk-toggleable__label-arrow:before {content: \"▾\";}#sk-container-id-2 div.sk-estimator input.sk-toggleable__control:checked~label.sk-toggleable__label {background-color: #d4ebff;}#sk-container-id-2 div.sk-label input.sk-toggleable__control:checked~label.sk-toggleable__label {background-color: #d4ebff;}#sk-container-id-2 input.sk-hidden--visually {border: 0;clip: rect(1px 1px 1px 1px);clip: rect(1px, 1px, 1px, 1px);height: 1px;margin: -1px;overflow: hidden;padding: 0;position: absolute;width: 1px;}#sk-container-id-2 div.sk-estimator {font-family: monospace;background-color: #f0f8ff;border: 1px dotted black;border-radius: 0.25em;box-sizing: border-box;margin-bottom: 0.5em;}#sk-container-id-2 div.sk-estimator:hover {background-color: #d4ebff;}#sk-container-id-2 div.sk-parallel-item::after {content: \"\";width: 100%;border-bottom: 1px solid gray;flex-grow: 1;}#sk-container-id-2 div.sk-label:hover label.sk-toggleable__label {background-color: #d4ebff;}#sk-container-id-2 div.sk-serial::before {content: \"\";position: absolute;border-left: 1px solid gray;box-sizing: border-box;top: 0;bottom: 0;left: 50%;z-index: 0;}#sk-container-id-2 div.sk-serial {display: flex;flex-direction: column;align-items: center;background-color: white;padding-right: 0.2em;padding-left: 0.2em;position: relative;}#sk-container-id-2 div.sk-item {position: relative;z-index: 1;}#sk-container-id-2 div.sk-parallel {display: flex;align-items: stretch;justify-content: center;background-color: white;position: relative;}#sk-container-id-2 div.sk-item::before, #sk-container-id-2 div.sk-parallel-item::before {content: \"\";position: absolute;border-left: 1px solid gray;box-sizing: border-box;top: 0;bottom: 0;left: 50%;z-index: -1;}#sk-container-id-2 div.sk-parallel-item {display: flex;flex-direction: column;z-index: 1;position: relative;background-color: white;}#sk-container-id-2 div.sk-parallel-item:first-child::after {align-self: flex-end;width: 50%;}#sk-container-id-2 div.sk-parallel-item:last-child::after {align-self: flex-start;width: 50%;}#sk-container-id-2 div.sk-parallel-item:only-child::after {width: 0;}#sk-container-id-2 div.sk-dashed-wrapped {border: 1px dashed gray;margin: 0 0.4em 0.5em 0.4em;box-sizing: border-box;padding-bottom: 0.4em;background-color: white;}#sk-container-id-2 div.sk-label label {font-family: monospace;font-weight: bold;display: inline-block;line-height: 1.2em;}#sk-container-id-2 div.sk-label-container {text-align: center;}#sk-container-id-2 div.sk-container {/* jupyter's `normalize.less` sets `[hidden] { display: none; }` but bootstrap.min.css set `[hidden] { display: none !important; }` so we also need the `!important` here to be able to override the default hidden behavior on the sphinx rendered scikit-learn.org. See: https://github.com/scikit-learn/scikit-learn/issues/21755 */display: inline-block !important;position: relative;}#sk-container-id-2 div.sk-text-repr-fallback {display: none;}</style><div id=\"sk-container-id-2\" class=\"sk-top-container\"><div class=\"sk-text-repr-fallback\"><pre>DecisionTreeClassifier()</pre><b>In a Jupyter environment, please rerun this cell to show the HTML representation or trust the notebook. <br />On GitHub, the HTML representation is unable to render, please try loading this page with nbviewer.org.</b></div><div class=\"sk-container\" hidden><div class=\"sk-item\"><div class=\"sk-estimator sk-toggleable\"><input class=\"sk-toggleable__control sk-hidden--visually\" id=\"sk-estimator-id-2\" type=\"checkbox\" checked><label for=\"sk-estimator-id-2\" class=\"sk-toggleable__label sk-toggleable__label-arrow\">DecisionTreeClassifier</label><div class=\"sk-toggleable__content\"><pre>DecisionTreeClassifier()</pre></div></div></div></div></div>"
      ],
      "text/plain": [
       "DecisionTreeClassifier()"
      ]
     },
     "execution_count": 34,
     "metadata": {},
     "output_type": "execute_result"
    }
   ],
   "source": [
    "dt.fit(X_train_encoded, y_train)"
   ]
  },
  {
   "cell_type": "code",
   "execution_count": 35,
   "id": "29fcc866-df18-4ded-bd3a-6744aecd5ff9",
   "metadata": {},
   "outputs": [],
   "source": [
    "y_pred = dt.predict(X_train_encoded)\n",
    "y_pred_ = dt.predict(X_test_encoded)"
   ]
  },
  {
   "cell_type": "code",
   "execution_count": 36,
   "id": "7c5d0724-e169-4ad0-aaf2-62847b1c1f07",
   "metadata": {},
   "outputs": [
    {
     "name": "stdout",
     "output_type": "stream",
     "text": [
      "for train\n"
     ]
    },
    {
     "data": {
      "text/html": [
       "<div>\n",
       "<style scoped>\n",
       "    .dataframe tbody tr th:only-of-type {\n",
       "        vertical-align: middle;\n",
       "    }\n",
       "\n",
       "    .dataframe tbody tr th {\n",
       "        vertical-align: top;\n",
       "    }\n",
       "\n",
       "    .dataframe thead th {\n",
       "        text-align: right;\n",
       "    }\n",
       "</style>\n",
       "<table border=\"1\" class=\"dataframe\">\n",
       "  <thead>\n",
       "    <tr style=\"text-align: right;\">\n",
       "      <th></th>\n",
       "      <th>0</th>\n",
       "      <th>1</th>\n",
       "      <th>2</th>\n",
       "      <th>3</th>\n",
       "      <th>4</th>\n",
       "      <th>5</th>\n",
       "      <th>6</th>\n",
       "      <th>7</th>\n",
       "      <th>8</th>\n",
       "      <th>9</th>\n",
       "      <th>accuracy</th>\n",
       "      <th>macro avg</th>\n",
       "      <th>weighted avg</th>\n",
       "    </tr>\n",
       "  </thead>\n",
       "  <tbody>\n",
       "    <tr>\n",
       "      <th>precision</th>\n",
       "      <td>1.0</td>\n",
       "      <td>1.0</td>\n",
       "      <td>1.0</td>\n",
       "      <td>1.0</td>\n",
       "      <td>1.0</td>\n",
       "      <td>1.0</td>\n",
       "      <td>1.0</td>\n",
       "      <td>1.0</td>\n",
       "      <td>1.0</td>\n",
       "      <td>1.0</td>\n",
       "      <td>1.0</td>\n",
       "      <td>1.0</td>\n",
       "      <td>1.0</td>\n",
       "    </tr>\n",
       "    <tr>\n",
       "      <th>recall</th>\n",
       "      <td>1.0</td>\n",
       "      <td>1.0</td>\n",
       "      <td>1.0</td>\n",
       "      <td>1.0</td>\n",
       "      <td>1.0</td>\n",
       "      <td>1.0</td>\n",
       "      <td>1.0</td>\n",
       "      <td>1.0</td>\n",
       "      <td>1.0</td>\n",
       "      <td>1.0</td>\n",
       "      <td>1.0</td>\n",
       "      <td>1.0</td>\n",
       "      <td>1.0</td>\n",
       "    </tr>\n",
       "    <tr>\n",
       "      <th>f1-score</th>\n",
       "      <td>1.0</td>\n",
       "      <td>1.0</td>\n",
       "      <td>1.0</td>\n",
       "      <td>1.0</td>\n",
       "      <td>1.0</td>\n",
       "      <td>1.0</td>\n",
       "      <td>1.0</td>\n",
       "      <td>1.0</td>\n",
       "      <td>1.0</td>\n",
       "      <td>1.0</td>\n",
       "      <td>1.0</td>\n",
       "      <td>1.0</td>\n",
       "      <td>1.0</td>\n",
       "    </tr>\n",
       "    <tr>\n",
       "      <th>support</th>\n",
       "      <td>5923.0</td>\n",
       "      <td>6742.0</td>\n",
       "      <td>5958.0</td>\n",
       "      <td>6131.0</td>\n",
       "      <td>5842.0</td>\n",
       "      <td>5421.0</td>\n",
       "      <td>5918.0</td>\n",
       "      <td>6265.0</td>\n",
       "      <td>5851.0</td>\n",
       "      <td>5949.0</td>\n",
       "      <td>1.0</td>\n",
       "      <td>60000.0</td>\n",
       "      <td>60000.0</td>\n",
       "    </tr>\n",
       "  </tbody>\n",
       "</table>\n",
       "</div>"
      ],
      "text/plain": [
       "                0       1       2       3       4       5       6       7  \\\n",
       "precision     1.0     1.0     1.0     1.0     1.0     1.0     1.0     1.0   \n",
       "recall        1.0     1.0     1.0     1.0     1.0     1.0     1.0     1.0   \n",
       "f1-score      1.0     1.0     1.0     1.0     1.0     1.0     1.0     1.0   \n",
       "support    5923.0  6742.0  5958.0  6131.0  5842.0  5421.0  5918.0  6265.0   \n",
       "\n",
       "                8       9  accuracy  macro avg  weighted avg  \n",
       "precision     1.0     1.0       1.0        1.0           1.0  \n",
       "recall        1.0     1.0       1.0        1.0           1.0  \n",
       "f1-score      1.0     1.0       1.0        1.0           1.0  \n",
       "support    5851.0  5949.0       1.0    60000.0       60000.0  "
      ]
     },
     "execution_count": 36,
     "metadata": {},
     "output_type": "execute_result"
    }
   ],
   "source": [
    "print(\"for train\")\n",
    "pd.DataFrame(classification_report(y_train, y_pred, output_dict=True))"
   ]
  },
  {
   "cell_type": "code",
   "execution_count": 37,
   "id": "f36dbf2a-2e14-4843-ba7c-67148c4ec5f1",
   "metadata": {},
   "outputs": [
    {
     "name": "stdout",
     "output_type": "stream",
     "text": [
      "for test\n"
     ]
    },
    {
     "data": {
      "text/html": [
       "<div>\n",
       "<style scoped>\n",
       "    .dataframe tbody tr th:only-of-type {\n",
       "        vertical-align: middle;\n",
       "    }\n",
       "\n",
       "    .dataframe tbody tr th {\n",
       "        vertical-align: top;\n",
       "    }\n",
       "\n",
       "    .dataframe thead th {\n",
       "        text-align: right;\n",
       "    }\n",
       "</style>\n",
       "<table border=\"1\" class=\"dataframe\">\n",
       "  <thead>\n",
       "    <tr style=\"text-align: right;\">\n",
       "      <th></th>\n",
       "      <th>0</th>\n",
       "      <th>1</th>\n",
       "      <th>2</th>\n",
       "      <th>3</th>\n",
       "      <th>4</th>\n",
       "      <th>5</th>\n",
       "      <th>6</th>\n",
       "      <th>7</th>\n",
       "      <th>8</th>\n",
       "      <th>9</th>\n",
       "      <th>accuracy</th>\n",
       "      <th>macro avg</th>\n",
       "      <th>weighted avg</th>\n",
       "    </tr>\n",
       "  </thead>\n",
       "  <tbody>\n",
       "    <tr>\n",
       "      <th>precision</th>\n",
       "      <td>0.910269</td>\n",
       "      <td>0.958627</td>\n",
       "      <td>0.866864</td>\n",
       "      <td>0.821023</td>\n",
       "      <td>0.875632</td>\n",
       "      <td>0.832200</td>\n",
       "      <td>0.903846</td>\n",
       "      <td>0.917577</td>\n",
       "      <td>0.826087</td>\n",
       "      <td>0.849654</td>\n",
       "      <td>0.8775</td>\n",
       "      <td>0.876178</td>\n",
       "      <td>0.877720</td>\n",
       "    </tr>\n",
       "    <tr>\n",
       "      <th>recall</th>\n",
       "      <td>0.931633</td>\n",
       "      <td>0.959471</td>\n",
       "      <td>0.851744</td>\n",
       "      <td>0.858416</td>\n",
       "      <td>0.881874</td>\n",
       "      <td>0.822870</td>\n",
       "      <td>0.883090</td>\n",
       "      <td>0.898833</td>\n",
       "      <td>0.819302</td>\n",
       "      <td>0.851338</td>\n",
       "      <td>0.8775</td>\n",
       "      <td>0.875857</td>\n",
       "      <td>0.877500</td>\n",
       "    </tr>\n",
       "    <tr>\n",
       "      <th>f1-score</th>\n",
       "      <td>0.920827</td>\n",
       "      <td>0.959049</td>\n",
       "      <td>0.859238</td>\n",
       "      <td>0.839303</td>\n",
       "      <td>0.878742</td>\n",
       "      <td>0.827508</td>\n",
       "      <td>0.893347</td>\n",
       "      <td>0.908108</td>\n",
       "      <td>0.822680</td>\n",
       "      <td>0.850495</td>\n",
       "      <td>0.8775</td>\n",
       "      <td>0.875930</td>\n",
       "      <td>0.877522</td>\n",
       "    </tr>\n",
       "    <tr>\n",
       "      <th>support</th>\n",
       "      <td>980.000000</td>\n",
       "      <td>1135.000000</td>\n",
       "      <td>1032.000000</td>\n",
       "      <td>1010.000000</td>\n",
       "      <td>982.000000</td>\n",
       "      <td>892.000000</td>\n",
       "      <td>958.000000</td>\n",
       "      <td>1028.000000</td>\n",
       "      <td>974.000000</td>\n",
       "      <td>1009.000000</td>\n",
       "      <td>0.8775</td>\n",
       "      <td>10000.000000</td>\n",
       "      <td>10000.000000</td>\n",
       "    </tr>\n",
       "  </tbody>\n",
       "</table>\n",
       "</div>"
      ],
      "text/plain": [
       "                    0            1            2            3           4  \\\n",
       "precision    0.910269     0.958627     0.866864     0.821023    0.875632   \n",
       "recall       0.931633     0.959471     0.851744     0.858416    0.881874   \n",
       "f1-score     0.920827     0.959049     0.859238     0.839303    0.878742   \n",
       "support    980.000000  1135.000000  1032.000000  1010.000000  982.000000   \n",
       "\n",
       "                    5           6            7           8            9  \\\n",
       "precision    0.832200    0.903846     0.917577    0.826087     0.849654   \n",
       "recall       0.822870    0.883090     0.898833    0.819302     0.851338   \n",
       "f1-score     0.827508    0.893347     0.908108    0.822680     0.850495   \n",
       "support    892.000000  958.000000  1028.000000  974.000000  1009.000000   \n",
       "\n",
       "           accuracy     macro avg  weighted avg  \n",
       "precision    0.8775      0.876178      0.877720  \n",
       "recall       0.8775      0.875857      0.877500  \n",
       "f1-score     0.8775      0.875930      0.877522  \n",
       "support      0.8775  10000.000000  10000.000000  "
      ]
     },
     "execution_count": 37,
     "metadata": {},
     "output_type": "execute_result"
    }
   ],
   "source": [
    "print(\"for test\")\n",
    "pd.DataFrame(classification_report(y_test, y_pred_, output_dict=True))"
   ]
  },
  {
   "cell_type": "code",
   "execution_count": 57,
   "id": "058d8c5e-362f-48ee-86a6-d71f03c85bab",
   "metadata": {},
   "outputs": [
    {
     "data": {
      "text/plain": [
       "<Axes: >"
      ]
     },
     "execution_count": 57,
     "metadata": {},
     "output_type": "execute_result"
    },
    {
     "data": {
      "image/png": "[encoded data removed]",
      "text/plain": [
       "<Figure size 640x480 with 2 Axes>"
      ]
     },
     "metadata": {},
     "output_type": "display_data"
    }
   ],
   "source": [
    "sns.heatmap(dt.feature_importances_.reshape(28, 28))"
   ]
  },
  {
   "cell_type": "code",
   "execution_count": null,
   "id": "fd2ee4b5-8da7-480e-8429-9b4fceed14af",
   "metadata": {},
   "outputs": [],
   "source": []
  },
  {
   "cell_type": "code",
   "execution_count": 46,
   "id": "e3d9d672-0ba0-45e2-9656-2628dc392169",
   "metadata": {},
   "outputs": [],
   "source": [
    "from sklearn.ensemble import RandomForestClassifier\n",
    "rf = RandomForestClassifier(n_estimators=100, max_depth=5)"
   ]
  },
  {
   "cell_type": "code",
   "execution_count": 47,
   "id": "6366f8e2-7ae3-4568-9ed2-e5b5d98e5ce2",
   "metadata": {},
   "outputs": [
    {
     "data": {
      "text/html": [
       "<style>#sk-container-id-4 {color: black;}#sk-container-id-4 pre{padding: 0;}#sk-container-id-4 div.sk-toggleable {background-color: white;}#sk-container-id-4 label.sk-toggleable__label {cursor: pointer;display: block;width: 100%;margin-bottom: 0;padding: 0.3em;box-sizing: border-box;text-align: center;}#sk-container-id-4 label.sk-toggleable__label-arrow:before {content: \"▸\";float: left;margin-right: 0.25em;color: #696969;}#sk-container-id-4 label.sk-toggleable__label-arrow:hover:before {color: black;}#sk-container-id-4 div.sk-estimator:hover label.sk-toggleable__label-arrow:before {color: black;}#sk-container-id-4 div.sk-toggleable__content {max-height: 0;max-width: 0;overflow: hidden;text-align: left;background-color: #f0f8ff;}#sk-container-id-4 div.sk-toggleable__content pre {margin: 0.2em;color: black;border-radius: 0.25em;background-color: #f0f8ff;}#sk-container-id-4 input.sk-toggleable__control:checked~div.sk-toggleable__content {max-height: 200px;max-width: 100%;overflow: auto;}#sk-container-id-4 input.sk-toggleable__control:checked~label.sk-toggleable__label-arrow:before {content: \"▾\";}#sk-container-id-4 div.sk-estimator input.sk-toggleable__control:checked~label.sk-toggleable__label {background-color: #d4ebff;}#sk-container-id-4 div.sk-label input.sk-toggleable__control:checked~label.sk-toggleable__label {background-color: #d4ebff;}#sk-container-id-4 input.sk-hidden--visually {border: 0;clip: rect(1px 1px 1px 1px);clip: rect(1px, 1px, 1px, 1px);height: 1px;margin: -1px;overflow: hidden;padding: 0;position: absolute;width: 1px;}#sk-container-id-4 div.sk-estimator {font-family: monospace;background-color: #f0f8ff;border: 1px dotted black;border-radius: 0.25em;box-sizing: border-box;margin-bottom: 0.5em;}#sk-container-id-4 div.sk-estimator:hover {background-color: #d4ebff;}#sk-container-id-4 div.sk-parallel-item::after {content: \"\";width: 100%;border-bottom: 1px solid gray;flex-grow: 1;}#sk-container-id-4 div.sk-label:hover label.sk-toggleable__label {background-color: #d4ebff;}#sk-container-id-4 div.sk-serial::before {content: \"\";position: absolute;border-left: 1px solid gray;box-sizing: border-box;top: 0;bottom: 0;left: 50%;z-index: 0;}#sk-container-id-4 div.sk-serial {display: flex;flex-direction: column;align-items: center;background-color: white;padding-right: 0.2em;padding-left: 0.2em;position: relative;}#sk-container-id-4 div.sk-item {position: relative;z-index: 1;}#sk-container-id-4 div.sk-parallel {display: flex;align-items: stretch;justify-content: center;background-color: white;position: relative;}#sk-container-id-4 div.sk-item::before, #sk-container-id-4 div.sk-parallel-item::before {content: \"\";position: absolute;border-left: 1px solid gray;box-sizing: border-box;top: 0;bottom: 0;left: 50%;z-index: -1;}#sk-container-id-4 div.sk-parallel-item {display: flex;flex-direction: column;z-index: 1;position: relative;background-color: white;}#sk-container-id-4 div.sk-parallel-item:first-child::after {align-self: flex-end;width: 50%;}#sk-container-id-4 div.sk-parallel-item:last-child::after {align-self: flex-start;width: 50%;}#sk-container-id-4 div.sk-parallel-item:only-child::after {width: 0;}#sk-container-id-4 div.sk-dashed-wrapped {border: 1px dashed gray;margin: 0 0.4em 0.5em 0.4em;box-sizing: border-box;padding-bottom: 0.4em;background-color: white;}#sk-container-id-4 div.sk-label label {font-family: monospace;font-weight: bold;display: inline-block;line-height: 1.2em;}#sk-container-id-4 div.sk-label-container {text-align: center;}#sk-container-id-4 div.sk-container {/* jupyter's `normalize.less` sets `[hidden] { display: none; }` but bootstrap.min.css set `[hidden] { display: none !important; }` so we also need the `!important` here to be able to override the default hidden behavior on the sphinx rendered scikit-learn.org. See: https://github.com/scikit-learn/scikit-learn/issues/21755 */display: inline-block !important;position: relative;}#sk-container-id-4 div.sk-text-repr-fallback {display: none;}</style><div id=\"sk-container-id-4\" class=\"sk-top-container\"><div class=\"sk-text-repr-fallback\"><pre>RandomForestClassifier(max_depth=5)</pre><b>In a Jupyter environment, please rerun this cell to show the HTML representation or trust the notebook. <br />On GitHub, the HTML representation is unable to render, please try loading this page with nbviewer.org.</b></div><div class=\"sk-container\" hidden><div class=\"sk-item\"><div class=\"sk-estimator sk-toggleable\"><input class=\"sk-toggleable__control sk-hidden--visually\" id=\"sk-estimator-id-4\" type=\"checkbox\" checked><label for=\"sk-estimator-id-4\" class=\"sk-toggleable__label sk-toggleable__label-arrow\">RandomForestClassifier</label><div class=\"sk-toggleable__content\"><pre>RandomForestClassifier(max_depth=5)</pre></div></div></div></div></div>"
      ],
      "text/plain": [
       "RandomForestClassifier(max_depth=5)"
      ]
     },
     "execution_count": 47,
     "metadata": {},
     "output_type": "execute_result"
    }
   ],
   "source": [
    "rf.fit(X_train_encoded, y_train)"
   ]
  },
  {
   "cell_type": "code",
   "execution_count": 48,
   "id": "4fc833a8-c24e-4d7e-b1a5-ef4053ef4ded",
   "metadata": {},
   "outputs": [],
   "source": [
    "y_pred = rf.predict(X_train_encoded)\n",
    "y_pred_ = rf.predict(X_test_encoded)"
   ]
  },
  {
   "cell_type": "code",
   "execution_count": 49,
   "id": "5a24131f-f33a-41a5-b660-601ce9eb4780",
   "metadata": {},
   "outputs": [
    {
     "name": "stdout",
     "output_type": "stream",
     "text": [
      "for train\n"
     ]
    },
    {
     "data": {
      "text/html": [
       "<div>\n",
       "<style scoped>\n",
       "    .dataframe tbody tr th:only-of-type {\n",
       "        vertical-align: middle;\n",
       "    }\n",
       "\n",
       "    .dataframe tbody tr th {\n",
       "        vertical-align: top;\n",
       "    }\n",
       "\n",
       "    .dataframe thead th {\n",
       "        text-align: right;\n",
       "    }\n",
       "</style>\n",
       "<table border=\"1\" class=\"dataframe\">\n",
       "  <thead>\n",
       "    <tr style=\"text-align: right;\">\n",
       "      <th></th>\n",
       "      <th>0</th>\n",
       "      <th>1</th>\n",
       "      <th>2</th>\n",
       "      <th>3</th>\n",
       "      <th>4</th>\n",
       "      <th>5</th>\n",
       "      <th>6</th>\n",
       "      <th>7</th>\n",
       "      <th>8</th>\n",
       "      <th>9</th>\n",
       "      <th>accuracy</th>\n",
       "      <th>macro avg</th>\n",
       "      <th>weighted avg</th>\n",
       "    </tr>\n",
       "  </thead>\n",
       "  <tbody>\n",
       "    <tr>\n",
       "      <th>precision</th>\n",
       "      <td>0.912404</td>\n",
       "      <td>0.834977</td>\n",
       "      <td>0.896539</td>\n",
       "      <td>0.797884</td>\n",
       "      <td>0.873333</td>\n",
       "      <td>0.952668</td>\n",
       "      <td>0.900347</td>\n",
       "      <td>0.873653</td>\n",
       "      <td>0.850577</td>\n",
       "      <td>0.746671</td>\n",
       "      <td>0.85785</td>\n",
       "      <td>0.863905</td>\n",
       "      <td>0.862563</td>\n",
       "    </tr>\n",
       "    <tr>\n",
       "      <th>recall</th>\n",
       "      <td>0.963701</td>\n",
       "      <td>0.979383</td>\n",
       "      <td>0.843572</td>\n",
       "      <td>0.836405</td>\n",
       "      <td>0.829682</td>\n",
       "      <td>0.642317</td>\n",
       "      <td>0.920581</td>\n",
       "      <td>0.892897</td>\n",
       "      <td>0.793881</td>\n",
       "      <td>0.838796</td>\n",
       "      <td>0.85785</td>\n",
       "      <td>0.854122</td>\n",
       "      <td>0.857850</td>\n",
       "    </tr>\n",
       "    <tr>\n",
       "      <th>f1-score</th>\n",
       "      <td>0.937351</td>\n",
       "      <td>0.901433</td>\n",
       "      <td>0.869249</td>\n",
       "      <td>0.816691</td>\n",
       "      <td>0.850948</td>\n",
       "      <td>0.767298</td>\n",
       "      <td>0.910352</td>\n",
       "      <td>0.883170</td>\n",
       "      <td>0.821252</td>\n",
       "      <td>0.790057</td>\n",
       "      <td>0.85785</td>\n",
       "      <td>0.854780</td>\n",
       "      <td>0.856200</td>\n",
       "    </tr>\n",
       "    <tr>\n",
       "      <th>support</th>\n",
       "      <td>5923.000000</td>\n",
       "      <td>6742.000000</td>\n",
       "      <td>5958.000000</td>\n",
       "      <td>6131.000000</td>\n",
       "      <td>5842.000000</td>\n",
       "      <td>5421.000000</td>\n",
       "      <td>5918.000000</td>\n",
       "      <td>6265.000000</td>\n",
       "      <td>5851.000000</td>\n",
       "      <td>5949.000000</td>\n",
       "      <td>0.85785</td>\n",
       "      <td>60000.000000</td>\n",
       "      <td>60000.000000</td>\n",
       "    </tr>\n",
       "  </tbody>\n",
       "</table>\n",
       "</div>"
      ],
      "text/plain": [
       "                     0            1            2            3            4  \\\n",
       "precision     0.912404     0.834977     0.896539     0.797884     0.873333   \n",
       "recall        0.963701     0.979383     0.843572     0.836405     0.829682   \n",
       "f1-score      0.937351     0.901433     0.869249     0.816691     0.850948   \n",
       "support    5923.000000  6742.000000  5958.000000  6131.000000  5842.000000   \n",
       "\n",
       "                     5            6            7            8            9  \\\n",
       "precision     0.952668     0.900347     0.873653     0.850577     0.746671   \n",
       "recall        0.642317     0.920581     0.892897     0.793881     0.838796   \n",
       "f1-score      0.767298     0.910352     0.883170     0.821252     0.790057   \n",
       "support    5421.000000  5918.000000  6265.000000  5851.000000  5949.000000   \n",
       "\n",
       "           accuracy     macro avg  weighted avg  \n",
       "precision   0.85785      0.863905      0.862563  \n",
       "recall      0.85785      0.854122      0.857850  \n",
       "f1-score    0.85785      0.854780      0.856200  \n",
       "support     0.85785  60000.000000  60000.000000  "
      ]
     },
     "execution_count": 49,
     "metadata": {},
     "output_type": "execute_result"
    }
   ],
   "source": [
    "print(\"for train\")\n",
    "pd.DataFrame(classification_report(y_train, y_pred, output_dict=True))"
   ]
  },
  {
   "cell_type": "code",
   "execution_count": 50,
   "id": "bd7689e8-72fd-4455-b7d1-a6ff20992e55",
   "metadata": {},
   "outputs": [
    {
     "name": "stdout",
     "output_type": "stream",
     "text": [
      "for train\n"
     ]
    },
    {
     "data": {
      "text/html": [
       "<div>\n",
       "<style scoped>\n",
       "    .dataframe tbody tr th:only-of-type {\n",
       "        vertical-align: middle;\n",
       "    }\n",
       "\n",
       "    .dataframe tbody tr th {\n",
       "        vertical-align: top;\n",
       "    }\n",
       "\n",
       "    .dataframe thead th {\n",
       "        text-align: right;\n",
       "    }\n",
       "</style>\n",
       "<table border=\"1\" class=\"dataframe\">\n",
       "  <thead>\n",
       "    <tr style=\"text-align: right;\">\n",
       "      <th></th>\n",
       "      <th>0</th>\n",
       "      <th>1</th>\n",
       "      <th>2</th>\n",
       "      <th>3</th>\n",
       "      <th>4</th>\n",
       "      <th>5</th>\n",
       "      <th>6</th>\n",
       "      <th>7</th>\n",
       "      <th>8</th>\n",
       "      <th>9</th>\n",
       "      <th>accuracy</th>\n",
       "      <th>macro avg</th>\n",
       "      <th>weighted avg</th>\n",
       "    </tr>\n",
       "  </thead>\n",
       "  <tbody>\n",
       "    <tr>\n",
       "      <th>precision</th>\n",
       "      <td>0.901777</td>\n",
       "      <td>0.866873</td>\n",
       "      <td>0.896373</td>\n",
       "      <td>0.808232</td>\n",
       "      <td>0.872247</td>\n",
       "      <td>0.942373</td>\n",
       "      <td>0.884458</td>\n",
       "      <td>0.871183</td>\n",
       "      <td>0.846154</td>\n",
       "      <td>0.772085</td>\n",
       "      <td>0.8616</td>\n",
       "      <td>0.866175</td>\n",
       "      <td>0.865223</td>\n",
       "    </tr>\n",
       "    <tr>\n",
       "      <th>recall</th>\n",
       "      <td>0.983673</td>\n",
       "      <td>0.986784</td>\n",
       "      <td>0.838178</td>\n",
       "      <td>0.855446</td>\n",
       "      <td>0.806517</td>\n",
       "      <td>0.623318</td>\n",
       "      <td>0.902923</td>\n",
       "      <td>0.888132</td>\n",
       "      <td>0.824435</td>\n",
       "      <td>0.866204</td>\n",
       "      <td>0.8616</td>\n",
       "      <td>0.857561</td>\n",
       "      <td>0.861600</td>\n",
       "    </tr>\n",
       "    <tr>\n",
       "      <th>f1-score</th>\n",
       "      <td>0.940947</td>\n",
       "      <td>0.922950</td>\n",
       "      <td>0.866299</td>\n",
       "      <td>0.831169</td>\n",
       "      <td>0.838095</td>\n",
       "      <td>0.750337</td>\n",
       "      <td>0.893595</td>\n",
       "      <td>0.879576</td>\n",
       "      <td>0.835153</td>\n",
       "      <td>0.816441</td>\n",
       "      <td>0.8616</td>\n",
       "      <td>0.857456</td>\n",
       "      <td>0.859298</td>\n",
       "    </tr>\n",
       "    <tr>\n",
       "      <th>support</th>\n",
       "      <td>980.000000</td>\n",
       "      <td>1135.000000</td>\n",
       "      <td>1032.000000</td>\n",
       "      <td>1010.000000</td>\n",
       "      <td>982.000000</td>\n",
       "      <td>892.000000</td>\n",
       "      <td>958.000000</td>\n",
       "      <td>1028.000000</td>\n",
       "      <td>974.000000</td>\n",
       "      <td>1009.000000</td>\n",
       "      <td>0.8616</td>\n",
       "      <td>10000.000000</td>\n",
       "      <td>10000.000000</td>\n",
       "    </tr>\n",
       "  </tbody>\n",
       "</table>\n",
       "</div>"
      ],
      "text/plain": [
       "                    0            1            2            3           4  \\\n",
       "precision    0.901777     0.866873     0.896373     0.808232    0.872247   \n",
       "recall       0.983673     0.986784     0.838178     0.855446    0.806517   \n",
       "f1-score     0.940947     0.922950     0.866299     0.831169    0.838095   \n",
       "support    980.000000  1135.000000  1032.000000  1010.000000  982.000000   \n",
       "\n",
       "                    5           6            7           8            9  \\\n",
       "precision    0.942373    0.884458     0.871183    0.846154     0.772085   \n",
       "recall       0.623318    0.902923     0.888132    0.824435     0.866204   \n",
       "f1-score     0.750337    0.893595     0.879576    0.835153     0.816441   \n",
       "support    892.000000  958.000000  1028.000000  974.000000  1009.000000   \n",
       "\n",
       "           accuracy     macro avg  weighted avg  \n",
       "precision    0.8616      0.866175      0.865223  \n",
       "recall       0.8616      0.857561      0.861600  \n",
       "f1-score     0.8616      0.857456      0.859298  \n",
       "support      0.8616  10000.000000  10000.000000  "
      ]
     },
     "execution_count": 50,
     "metadata": {},
     "output_type": "execute_result"
    }
   ],
   "source": [
    "print(\"for train\")\n",
    "pd.DataFrame(classification_report(y_test, y_pred_, output_dict=True))"
   ]
  },
  {
   "cell_type": "code",
   "execution_count": null,
   "id": "75ab5aef-4e25-4d9a-8e65-fdff88b338f0",
   "metadata": {},
   "outputs": [],
   "source": []
  },
  {
   "cell_type": "code",
   "execution_count": 55,
   "id": "9f4f2ba2-7842-45ad-b57d-268bfc9a50be",
   "metadata": {},
   "outputs": [
    {
     "data": {
      "text/plain": [
       "<Axes: >"
      ]
     },
     "execution_count": 55,
     "metadata": {},
     "output_type": "execute_result"
    },
    {
     "data": {
      "image/png": "[encoded data removed]",
      "text/plain": [
       "<Figure size 640x480 with 2 Axes>"
      ]
     },
     "metadata": {},
     "output_type": "display_data"
    }
   ],
   "source": [
    "sns.heatmap(rf.feature_importances_.reshape(28, 28))"
   ]
  },
  {
   "cell_type": "code",
   "execution_count": null,
   "id": "7cd0af46-9935-4f0a-b14f-a1895dd7655f",
   "metadata": {},
   "outputs": [],
   "source": []
  }
 ],
 "metadata": {
  "kernelspec": {
   "display_name": "Python 3 (ipykernel)",
   "language": "python",
   "name": "python3"
  },
  "language_info": {
   "codemirror_mode": {
    "name": "ipython",
    "version": 3
   },
   "file_extension": ".py",
   "mimetype": "text/x-python",
   "name": "python",
   "nbconvert_exporter": "python",
   "pygments_lexer": "ipython3",
   "version": "3.10.12"
  }
 },
 "nbformat": 4,
 "nbformat_minor": 5
}
