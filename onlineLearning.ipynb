{
 "cells": [
  {
   "cell_type": "code",
   "execution_count": 1,
   "metadata": {},
   "outputs": [],
   "source": [
    "import pandas as pd\n",
    "import numpy as np\n",
    "from sklearn.model_selection import train_test_split\n",
    "from sklearn.linear_model import LinearRegression, SGDRegressor\n",
    "from sklearn.metrics import r2_score, mean_absolute_error, mean_squared_error\n",
    "from seaborn import heatmap,pairplot"
   ]
  },
  {
   "cell_type": "code",
   "execution_count": 32,
   "metadata": {},
   "outputs": [],
   "source": [
    "df = pd.read_csv(\"./evdataset.csv\")"
   ]
  },
  {
   "cell_type": "code",
   "execution_count": 28,
   "metadata": {},
   "outputs": [],
   "source": [
    "dfs = pd.read_csv(\"./evdataset.csv\", chunksize=75, sep=',')"
   ]
  },
  {
   "cell_type": "code",
   "execution_count": 29,
   "metadata": {},
   "outputs": [],
   "source": [
    "chunks = {}\n",
    "for index, df in enumerate(dfs):\n",
    "    chunks[index] = df"
   ]
  },
  {
   "cell_type": "code",
   "execution_count": 33,
   "metadata": {},
   "outputs": [
    {
     "name": "stdout",
     "output_type": "stream",
     "text": [
      "<class 'pandas.core.frame.DataFrame'>\n",
      "RangeIndex: 194 entries, 0 to 193\n",
      "Data columns (total 27 columns):\n",
      " #   Column                       Non-Null Count  Dtype  \n",
      "---  ------                       --------------  -----  \n",
      " 0   id                           194 non-null    int64  \n",
      " 1   Brand                        194 non-null    object \n",
      " 2   link                         194 non-null    object \n",
      " 3   City - Cold Weather          194 non-null    int64  \n",
      " 4   Highway - Cold Weather       194 non-null    int64  \n",
      " 5   Combined - Cold Weather      194 non-null    int64  \n",
      " 6   City - Mild Weather          194 non-null    int64  \n",
      " 7   Highway - Mild Weather       194 non-null    int64  \n",
      " 8   Combined - Mild Weather      194 non-null    int64  \n",
      " 9   Acceleration 0 - 100 km/h    194 non-null    float64\n",
      " 10  Top Speed                    194 non-null    int64  \n",
      " 11  Electric Range               194 non-null    int64  \n",
      " 12  Total Power                  194 non-null    int64  \n",
      " 13  Total Torque                 194 non-null    int64  \n",
      " 14  Drive                        194 non-null    object \n",
      " 15  Battery Capacity             194 non-null    float64\n",
      " 16  Charge Power                 194 non-null    float64\n",
      " 17  Charge Speed                 194 non-null    int64  \n",
      " 18  Fastcharge Speed             194 non-null    int64  \n",
      " 19  Length                       194 non-null    int64  \n",
      " 20  Width                        194 non-null    int64  \n",
      " 21  Height                       194 non-null    int64  \n",
      " 22  Wheelbase                    194 non-null    int64  \n",
      " 23  Gross Vehicle Weight (GVWR)  194 non-null    int64  \n",
      " 24  Max. Payload                 194 non-null    int64  \n",
      " 25  Cargo Volume                 194 non-null    int64  \n",
      " 26  Seats                        194 non-null    int64  \n",
      "dtypes: float64(3), int64(21), object(3)\n",
      "memory usage: 41.0+ KB\n"
     ]
    }
   ],
   "source": [
    "df.info()"
   ]
  },
  {
   "cell_type": "code",
   "execution_count": 34,
   "metadata": {},
   "outputs": [
    {
     "data": {
      "text/html": [
       "<div>\n",
       "<style scoped>\n",
       "    .dataframe tbody tr th:only-of-type {\n",
       "        vertical-align: middle;\n",
       "    }\n",
       "\n",
       "    .dataframe tbody tr th {\n",
       "        vertical-align: top;\n",
       "    }\n",
       "\n",
       "    .dataframe thead th {\n",
       "        text-align: right;\n",
       "    }\n",
       "</style>\n",
       "<table border=\"1\" class=\"dataframe\">\n",
       "  <thead>\n",
       "    <tr style=\"text-align: right;\">\n",
       "      <th></th>\n",
       "      <th>id</th>\n",
       "      <th>Brand</th>\n",
       "      <th>link</th>\n",
       "      <th>City - Cold Weather</th>\n",
       "      <th>Highway - Cold Weather</th>\n",
       "      <th>Combined - Cold Weather</th>\n",
       "      <th>City - Mild Weather</th>\n",
       "      <th>Highway - Mild Weather</th>\n",
       "      <th>Combined - Mild Weather</th>\n",
       "      <th>Acceleration 0 - 100 km/h</th>\n",
       "      <th>...</th>\n",
       "      <th>Charge Speed</th>\n",
       "      <th>Fastcharge Speed</th>\n",
       "      <th>Length</th>\n",
       "      <th>Width</th>\n",
       "      <th>Height</th>\n",
       "      <th>Wheelbase</th>\n",
       "      <th>Gross Vehicle Weight (GVWR)</th>\n",
       "      <th>Max. Payload</th>\n",
       "      <th>Cargo Volume</th>\n",
       "      <th>Seats</th>\n",
       "    </tr>\n",
       "  </thead>\n",
       "  <tbody>\n",
       "    <tr>\n",
       "      <th>0</th>\n",
       "      <td>1647</td>\n",
       "      <td>Genesis</td>\n",
       "      <td>https://ev-database.org/car/1647/Genesis-GV60-...</td>\n",
       "      <td>390</td>\n",
       "      <td>275</td>\n",
       "      <td>330</td>\n",
       "      <td>575</td>\n",
       "      <td>355</td>\n",
       "      <td>445</td>\n",
       "      <td>7.8</td>\n",
       "      <td>...</td>\n",
       "      <td>49</td>\n",
       "      <td>1020</td>\n",
       "      <td>4515</td>\n",
       "      <td>1890</td>\n",
       "      <td>1580</td>\n",
       "      <td>2900</td>\n",
       "      <td>2495</td>\n",
       "      <td>595</td>\n",
       "      <td>432</td>\n",
       "      <td>5</td>\n",
       "    </tr>\n",
       "    <tr>\n",
       "      <th>1</th>\n",
       "      <td>1493</td>\n",
       "      <td>Mercedes</td>\n",
       "      <td>https://ev-database.org/car/1493/Mercedes-EQB-...</td>\n",
       "      <td>330</td>\n",
       "      <td>235</td>\n",
       "      <td>280</td>\n",
       "      <td>480</td>\n",
       "      <td>300</td>\n",
       "      <td>375</td>\n",
       "      <td>6.2</td>\n",
       "      <td>...</td>\n",
       "      <td>46</td>\n",
       "      <td>470</td>\n",
       "      <td>4684</td>\n",
       "      <td>1834</td>\n",
       "      <td>1701</td>\n",
       "      <td>2829</td>\n",
       "      <td>2580</td>\n",
       "      <td>480</td>\n",
       "      <td>495</td>\n",
       "      <td>7</td>\n",
       "    </tr>\n",
       "    <tr>\n",
       "      <th>2</th>\n",
       "      <td>1229</td>\n",
       "      <td>Porsche</td>\n",
       "      <td>https://ev-database.org/car/1229/Porsche-Tayca...</td>\n",
       "      <td>400</td>\n",
       "      <td>305</td>\n",
       "      <td>350</td>\n",
       "      <td>580</td>\n",
       "      <td>385</td>\n",
       "      <td>470</td>\n",
       "      <td>3.2</td>\n",
       "      <td>...</td>\n",
       "      <td>46</td>\n",
       "      <td>1020</td>\n",
       "      <td>4963</td>\n",
       "      <td>1966</td>\n",
       "      <td>1381</td>\n",
       "      <td>2900</td>\n",
       "      <td>2880</td>\n",
       "      <td>575</td>\n",
       "      <td>366</td>\n",
       "      <td>4</td>\n",
       "    </tr>\n",
       "    <tr>\n",
       "      <th>3</th>\n",
       "      <td>1252</td>\n",
       "      <td>BMW</td>\n",
       "      <td>https://ev-database.org/car/1252/BMW-i4-eDrive40</td>\n",
       "      <td>445</td>\n",
       "      <td>340</td>\n",
       "      <td>390</td>\n",
       "      <td>670</td>\n",
       "      <td>440</td>\n",
       "      <td>540</td>\n",
       "      <td>5.7</td>\n",
       "      <td>...</td>\n",
       "      <td>54</td>\n",
       "      <td>730</td>\n",
       "      <td>4783</td>\n",
       "      <td>1852</td>\n",
       "      <td>1448</td>\n",
       "      <td>2856</td>\n",
       "      <td>2605</td>\n",
       "      <td>555</td>\n",
       "      <td>470</td>\n",
       "      <td>5</td>\n",
       "    </tr>\n",
       "    <tr>\n",
       "      <th>4</th>\n",
       "      <td>1534</td>\n",
       "      <td>Volkswagen</td>\n",
       "      <td>https://ev-database.org/car/1534/Volkswagen-ID...</td>\n",
       "      <td>440</td>\n",
       "      <td>320</td>\n",
       "      <td>380</td>\n",
       "      <td>660</td>\n",
       "      <td>415</td>\n",
       "      <td>520</td>\n",
       "      <td>7.9</td>\n",
       "      <td>...</td>\n",
       "      <td>55</td>\n",
       "      <td>570</td>\n",
       "      <td>4261</td>\n",
       "      <td>1809</td>\n",
       "      <td>1568</td>\n",
       "      <td>2771</td>\n",
       "      <td>2300</td>\n",
       "      <td>447</td>\n",
       "      <td>385</td>\n",
       "      <td>5</td>\n",
       "    </tr>\n",
       "  </tbody>\n",
       "</table>\n",
       "<p>5 rows × 27 columns</p>\n",
       "</div>"
      ],
      "text/plain": [
       "     id       Brand                                               link  \\\n",
       "0  1647     Genesis  https://ev-database.org/car/1647/Genesis-GV60-...   \n",
       "1  1493    Mercedes  https://ev-database.org/car/1493/Mercedes-EQB-...   \n",
       "2  1229     Porsche  https://ev-database.org/car/1229/Porsche-Tayca...   \n",
       "3  1252         BMW   https://ev-database.org/car/1252/BMW-i4-eDrive40   \n",
       "4  1534  Volkswagen  https://ev-database.org/car/1534/Volkswagen-ID...   \n",
       "\n",
       "   City - Cold Weather  Highway - Cold Weather  Combined - Cold Weather  \\\n",
       "0                  390                     275                      330   \n",
       "1                  330                     235                      280   \n",
       "2                  400                     305                      350   \n",
       "3                  445                     340                      390   \n",
       "4                  440                     320                      380   \n",
       "\n",
       "   City - Mild Weather  Highway - Mild Weather  Combined - Mild Weather  \\\n",
       "0                  575                     355                      445   \n",
       "1                  480                     300                      375   \n",
       "2                  580                     385                      470   \n",
       "3                  670                     440                      540   \n",
       "4                  660                     415                      520   \n",
       "\n",
       "   Acceleration 0 - 100 km/h  ...  Charge Speed  Fastcharge Speed  Length  \\\n",
       "0                        7.8  ...            49              1020    4515   \n",
       "1                        6.2  ...            46               470    4684   \n",
       "2                        3.2  ...            46              1020    4963   \n",
       "3                        5.7  ...            54               730    4783   \n",
       "4                        7.9  ...            55               570    4261   \n",
       "\n",
       "   Width Height  Wheelbase  Gross Vehicle Weight (GVWR)  Max. Payload  \\\n",
       "0   1890   1580       2900                         2495           595   \n",
       "1   1834   1701       2829                         2580           480   \n",
       "2   1966   1381       2900                         2880           575   \n",
       "3   1852   1448       2856                         2605           555   \n",
       "4   1809   1568       2771                         2300           447   \n",
       "\n",
       "   Cargo Volume  Seats  \n",
       "0           432      5  \n",
       "1           495      7  \n",
       "2           366      4  \n",
       "3           470      5  \n",
       "4           385      5  \n",
       "\n",
       "[5 rows x 27 columns]"
      ]
     },
     "execution_count": 34,
     "metadata": {},
     "output_type": "execute_result"
    }
   ],
   "source": [
    "df.head()"
   ]
  },
  {
   "cell_type": "code",
   "execution_count": 38,
   "metadata": {},
   "outputs": [],
   "source": [
    "data = df[['Top Speed', 'Battery Capacity','Gross Vehicle Weight (GVWR)','Electric Range']]"
   ]
  },
  {
   "cell_type": "code",
   "execution_count": 39,
   "metadata": {},
   "outputs": [
    {
     "data": {
      "text/plain": [
       "<Axes: >"
      ]
     },
     "execution_count": 39,
     "metadata": {},
     "output_type": "execute_result"
    },
    {
     "data": {
      "image/png": "[encoded data removed]",
      "text/plain": [
       "<Figure size 640x480 with 2 Axes>"
      ]
     },
     "metadata": {},
     "output_type": "display_data"
    }
   ],
   "source": [
    "heatmap(data.corr())"
   ]
  },
  {
   "cell_type": "code",
   "execution_count": 40,
   "metadata": {},
   "outputs": [],
   "source": [
    "# pairplot(data)"
   ]
  },
  {
   "cell_type": "code",
   "execution_count": 94,
   "metadata": {},
   "outputs": [],
   "source": [
    "X = np.array(data[['Battery Capacity', 'Top Speed']])\n",
    "y = np.array(data['Electric Range']).reshape(-1,1)"
   ]
  },
  {
   "cell_type": "code",
   "execution_count": 95,
   "metadata": {},
   "outputs": [],
   "source": [
    "from sklearn import preprocessing\n",
    "mm_scaler = preprocessing.StandardScaler()\n",
    "X_train_minmax = mm_scaler.fit_transform(X)"
   ]
  },
  {
   "cell_type": "code",
   "execution_count": 96,
   "metadata": {},
   "outputs": [],
   "source": [
    "X_train,x_test, y_train,y_test = train_test_split(X_train_minmax,y, test_size=0.3)"
   ]
  },
  {
   "cell_type": "code",
   "execution_count": 97,
   "metadata": {},
   "outputs": [
    {
     "data": {
      "text/plain": [
       "(135, 2)"
      ]
     },
     "execution_count": 97,
     "metadata": {},
     "output_type": "execute_result"
    }
   ],
   "source": [
    "X_train.shape"
   ]
  },
  {
   "cell_type": "code",
   "execution_count": 98,
   "metadata": {},
   "outputs": [
    {
     "data": {
      "text/plain": [
       "(59, 2)"
      ]
     },
     "execution_count": 98,
     "metadata": {},
     "output_type": "execute_result"
    }
   ],
   "source": [
    "x_test.shape"
   ]
  },
  {
   "cell_type": "code",
   "execution_count": 99,
   "metadata": {},
   "outputs": [],
   "source": [
    "def get_metrics(model, X, y):\n",
    "    y_pred = model.predict(X)\n",
    "    return {\n",
    "        \"r2_score\" : r2_score(y,y_pred),\n",
    "        \"mean_squared_error\" : mean_squared_error(y, y_pred),\n",
    "        \"mean_absolute_error\" : mean_absolute_error(y, y_pred)\n",
    "    }"
   ]
  },
  {
   "cell_type": "code",
   "execution_count": 100,
   "metadata": {},
   "outputs": [],
   "source": [
    "# batch training : at time training with whole data, available"
   ]
  },
  {
   "cell_type": "code",
   "execution_count": 101,
   "metadata": {},
   "outputs": [
    {
     "data": {
      "text/html": [
       "<style>#sk-container-id-8 {color: black;}#sk-container-id-8 pre{padding: 0;}#sk-container-id-8 div.sk-toggleable {background-color: white;}#sk-container-id-8 label.sk-toggleable__label {cursor: pointer;display: block;width: 100%;margin-bottom: 0;padding: 0.3em;box-sizing: border-box;text-align: center;}#sk-container-id-8 label.sk-toggleable__label-arrow:before {content: \"▸\";float: left;margin-right: 0.25em;color: #696969;}#sk-container-id-8 label.sk-toggleable__label-arrow:hover:before {color: black;}#sk-container-id-8 div.sk-estimator:hover label.sk-toggleable__label-arrow:before {color: black;}#sk-container-id-8 div.sk-toggleable__content {max-height: 0;max-width: 0;overflow: hidden;text-align: left;background-color: #f0f8ff;}#sk-container-id-8 div.sk-toggleable__content pre {margin: 0.2em;color: black;border-radius: 0.25em;background-color: #f0f8ff;}#sk-container-id-8 input.sk-toggleable__control:checked~div.sk-toggleable__content {max-height: 200px;max-width: 100%;overflow: auto;}#sk-container-id-8 input.sk-toggleable__control:checked~label.sk-toggleable__label-arrow:before {content: \"▾\";}#sk-container-id-8 div.sk-estimator input.sk-toggleable__control:checked~label.sk-toggleable__label {background-color: #d4ebff;}#sk-container-id-8 div.sk-label input.sk-toggleable__control:checked~label.sk-toggleable__label {background-color: #d4ebff;}#sk-container-id-8 input.sk-hidden--visually {border: 0;clip: rect(1px 1px 1px 1px);clip: rect(1px, 1px, 1px, 1px);height: 1px;margin: -1px;overflow: hidden;padding: 0;position: absolute;width: 1px;}#sk-container-id-8 div.sk-estimator {font-family: monospace;background-color: #f0f8ff;border: 1px dotted black;border-radius: 0.25em;box-sizing: border-box;margin-bottom: 0.5em;}#sk-container-id-8 div.sk-estimator:hover {background-color: #d4ebff;}#sk-container-id-8 div.sk-parallel-item::after {content: \"\";width: 100%;border-bottom: 1px solid gray;flex-grow: 1;}#sk-container-id-8 div.sk-label:hover label.sk-toggleable__label {background-color: #d4ebff;}#sk-container-id-8 div.sk-serial::before {content: \"\";position: absolute;border-left: 1px solid gray;box-sizing: border-box;top: 0;bottom: 0;left: 50%;z-index: 0;}#sk-container-id-8 div.sk-serial {display: flex;flex-direction: column;align-items: center;background-color: white;padding-right: 0.2em;padding-left: 0.2em;position: relative;}#sk-container-id-8 div.sk-item {position: relative;z-index: 1;}#sk-container-id-8 div.sk-parallel {display: flex;align-items: stretch;justify-content: center;background-color: white;position: relative;}#sk-container-id-8 div.sk-item::before, #sk-container-id-8 div.sk-parallel-item::before {content: \"\";position: absolute;border-left: 1px solid gray;box-sizing: border-box;top: 0;bottom: 0;left: 50%;z-index: -1;}#sk-container-id-8 div.sk-parallel-item {display: flex;flex-direction: column;z-index: 1;position: relative;background-color: white;}#sk-container-id-8 div.sk-parallel-item:first-child::after {align-self: flex-end;width: 50%;}#sk-container-id-8 div.sk-parallel-item:last-child::after {align-self: flex-start;width: 50%;}#sk-container-id-8 div.sk-parallel-item:only-child::after {width: 0;}#sk-container-id-8 div.sk-dashed-wrapped {border: 1px dashed gray;margin: 0 0.4em 0.5em 0.4em;box-sizing: border-box;padding-bottom: 0.4em;background-color: white;}#sk-container-id-8 div.sk-label label {font-family: monospace;font-weight: bold;display: inline-block;line-height: 1.2em;}#sk-container-id-8 div.sk-label-container {text-align: center;}#sk-container-id-8 div.sk-container {/* jupyter's `normalize.less` sets `[hidden] { display: none; }` but bootstrap.min.css set `[hidden] { display: none !important; }` so we also need the `!important` here to be able to override the default hidden behavior on the sphinx rendered scikit-learn.org. See: https://github.com/scikit-learn/scikit-learn/issues/21755 */display: inline-block !important;position: relative;}#sk-container-id-8 div.sk-text-repr-fallback {display: none;}</style><div id=\"sk-container-id-8\" class=\"sk-top-container\"><div class=\"sk-text-repr-fallback\"><pre>LinearRegression()</pre><b>In a Jupyter environment, please rerun this cell to show the HTML representation or trust the notebook. <br />On GitHub, the HTML representation is unable to render, please try loading this page with nbviewer.org.</b></div><div class=\"sk-container\" hidden><div class=\"sk-item\"><div class=\"sk-estimator sk-toggleable\"><input class=\"sk-toggleable__control sk-hidden--visually\" id=\"sk-estimator-id-8\" type=\"checkbox\" checked><label for=\"sk-estimator-id-8\" class=\"sk-toggleable__label sk-toggleable__label-arrow\">LinearRegression</label><div class=\"sk-toggleable__content\"><pre>LinearRegression()</pre></div></div></div></div></div>"
      ],
      "text/plain": [
       "LinearRegression()"
      ]
     },
     "execution_count": 101,
     "metadata": {},
     "output_type": "execute_result"
    }
   ],
   "source": [
    "batch_model = LinearRegression()\n",
    "batch_model.fit(X_train, y_train)"
   ]
  },
  {
   "cell_type": "code",
   "execution_count": 102,
   "metadata": {},
   "outputs": [
    {
     "data": {
      "text/plain": [
       "{'r2_score': 0.8475077129996688,\n",
       " 'mean_squared_error': 2107.1074063901706,\n",
       " 'mean_absolute_error': 38.69596705706168}"
      ]
     },
     "execution_count": 102,
     "metadata": {},
     "output_type": "execute_result"
    }
   ],
   "source": [
    "get_metrics(batch_model, x_test, y_test)"
   ]
  },
  {
   "cell_type": "code",
   "execution_count": 103,
   "metadata": {},
   "outputs": [],
   "source": [
    "online_model = SGDRegressor(penalty=None, max_iter=100, learning_rate=\"constant\")"
   ]
  },
  {
   "cell_type": "code",
   "execution_count": 104,
   "metadata": {},
   "outputs": [
    {
     "data": {
      "text/html": [
       "<style>#sk-container-id-9 {color: black;}#sk-container-id-9 pre{padding: 0;}#sk-container-id-9 div.sk-toggleable {background-color: white;}#sk-container-id-9 label.sk-toggleable__label {cursor: pointer;display: block;width: 100%;margin-bottom: 0;padding: 0.3em;box-sizing: border-box;text-align: center;}#sk-container-id-9 label.sk-toggleable__label-arrow:before {content: \"▸\";float: left;margin-right: 0.25em;color: #696969;}#sk-container-id-9 label.sk-toggleable__label-arrow:hover:before {color: black;}#sk-container-id-9 div.sk-estimator:hover label.sk-toggleable__label-arrow:before {color: black;}#sk-container-id-9 div.sk-toggleable__content {max-height: 0;max-width: 0;overflow: hidden;text-align: left;background-color: #f0f8ff;}#sk-container-id-9 div.sk-toggleable__content pre {margin: 0.2em;color: black;border-radius: 0.25em;background-color: #f0f8ff;}#sk-container-id-9 input.sk-toggleable__control:checked~div.sk-toggleable__content {max-height: 200px;max-width: 100%;overflow: auto;}#sk-container-id-9 input.sk-toggleable__control:checked~label.sk-toggleable__label-arrow:before {content: \"▾\";}#sk-container-id-9 div.sk-estimator input.sk-toggleable__control:checked~label.sk-toggleable__label {background-color: #d4ebff;}#sk-container-id-9 div.sk-label input.sk-toggleable__control:checked~label.sk-toggleable__label {background-color: #d4ebff;}#sk-container-id-9 input.sk-hidden--visually {border: 0;clip: rect(1px 1px 1px 1px);clip: rect(1px, 1px, 1px, 1px);height: 1px;margin: -1px;overflow: hidden;padding: 0;position: absolute;width: 1px;}#sk-container-id-9 div.sk-estimator {font-family: monospace;background-color: #f0f8ff;border: 1px dotted black;border-radius: 0.25em;box-sizing: border-box;margin-bottom: 0.5em;}#sk-container-id-9 div.sk-estimator:hover {background-color: #d4ebff;}#sk-container-id-9 div.sk-parallel-item::after {content: \"\";width: 100%;border-bottom: 1px solid gray;flex-grow: 1;}#sk-container-id-9 div.sk-label:hover label.sk-toggleable__label {background-color: #d4ebff;}#sk-container-id-9 div.sk-serial::before {content: \"\";position: absolute;border-left: 1px solid gray;box-sizing: border-box;top: 0;bottom: 0;left: 50%;z-index: 0;}#sk-container-id-9 div.sk-serial {display: flex;flex-direction: column;align-items: center;background-color: white;padding-right: 0.2em;padding-left: 0.2em;position: relative;}#sk-container-id-9 div.sk-item {position: relative;z-index: 1;}#sk-container-id-9 div.sk-parallel {display: flex;align-items: stretch;justify-content: center;background-color: white;position: relative;}#sk-container-id-9 div.sk-item::before, #sk-container-id-9 div.sk-parallel-item::before {content: \"\";position: absolute;border-left: 1px solid gray;box-sizing: border-box;top: 0;bottom: 0;left: 50%;z-index: -1;}#sk-container-id-9 div.sk-parallel-item {display: flex;flex-direction: column;z-index: 1;position: relative;background-color: white;}#sk-container-id-9 div.sk-parallel-item:first-child::after {align-self: flex-end;width: 50%;}#sk-container-id-9 div.sk-parallel-item:last-child::after {align-self: flex-start;width: 50%;}#sk-container-id-9 div.sk-parallel-item:only-child::after {width: 0;}#sk-container-id-9 div.sk-dashed-wrapped {border: 1px dashed gray;margin: 0 0.4em 0.5em 0.4em;box-sizing: border-box;padding-bottom: 0.4em;background-color: white;}#sk-container-id-9 div.sk-label label {font-family: monospace;font-weight: bold;display: inline-block;line-height: 1.2em;}#sk-container-id-9 div.sk-label-container {text-align: center;}#sk-container-id-9 div.sk-container {/* jupyter's `normalize.less` sets `[hidden] { display: none; }` but bootstrap.min.css set `[hidden] { display: none !important; }` so we also need the `!important` here to be able to override the default hidden behavior on the sphinx rendered scikit-learn.org. See: https://github.com/scikit-learn/scikit-learn/issues/21755 */display: inline-block !important;position: relative;}#sk-container-id-9 div.sk-text-repr-fallback {display: none;}</style><div id=\"sk-container-id-9\" class=\"sk-top-container\"><div class=\"sk-text-repr-fallback\"><pre>SGDRegressor(learning_rate=&#x27;constant&#x27;, max_iter=100, penalty=None)</pre><b>In a Jupyter environment, please rerun this cell to show the HTML representation or trust the notebook. <br />On GitHub, the HTML representation is unable to render, please try loading this page with nbviewer.org.</b></div><div class=\"sk-container\" hidden><div class=\"sk-item\"><div class=\"sk-estimator sk-toggleable\"><input class=\"sk-toggleable__control sk-hidden--visually\" id=\"sk-estimator-id-9\" type=\"checkbox\" checked><label for=\"sk-estimator-id-9\" class=\"sk-toggleable__label sk-toggleable__label-arrow\">SGDRegressor</label><div class=\"sk-toggleable__content\"><pre>SGDRegressor(learning_rate=&#x27;constant&#x27;, max_iter=100, penalty=None)</pre></div></div></div></div></div>"
      ],
      "text/plain": [
       "SGDRegressor(learning_rate='constant', max_iter=100, penalty=None)"
      ]
     },
     "execution_count": 104,
     "metadata": {},
     "output_type": "execute_result"
    }
   ],
   "source": [
    "online_model.fit(X_train,y_train.reshape(-1))"
   ]
  },
  {
   "cell_type": "code",
   "execution_count": 105,
   "metadata": {},
   "outputs": [
    {
     "data": {
      "text/plain": [
       "{'r2_score': 0.8472846235218799,\n",
       " 'mean_squared_error': 2110.190011420125,\n",
       " 'mean_absolute_error': 38.56961247991219}"
      ]
     },
     "execution_count": 105,
     "metadata": {},
     "output_type": "execute_result"
    }
   ],
   "source": [
    "get_metrics(online_model, x_test, y_test)"
   ]
  },
  {
   "cell_type": "code",
   "execution_count": 106,
   "metadata": {},
   "outputs": [
    {
     "name": "stdout",
     "output_type": "stream",
     "text": [
      "0.0035915374755859375\n"
     ]
    }
   ],
   "source": [
    "import time\n",
    "\n",
    "start = time.time()\n",
    "online_model.partial_fit(x_test, y_test.reshape(-1))\n",
    "print(time.time() - start)"
   ]
  },
  {
   "cell_type": "code",
   "execution_count": 107,
   "metadata": {},
   "outputs": [
    {
     "data": {
      "text/plain": [
       "{'r2_score': 0.8533825238005712,\n",
       " 'mean_squared_error': 2025.9304656200727,\n",
       " 'mean_absolute_error': 38.075498379965104}"
      ]
     },
     "execution_count": 107,
     "metadata": {},
     "output_type": "execute_result"
    }
   ],
   "source": [
    "get_metrics(online_model, x_test, y_test)"
   ]
  },
  {
   "cell_type": "code",
   "execution_count": 178,
   "metadata": {},
   "outputs": [
    {
     "data": {
      "text/html": [
       "<div>\n",
       "<style scoped>\n",
       "    .dataframe tbody tr th:only-of-type {\n",
       "        vertical-align: middle;\n",
       "    }\n",
       "\n",
       "    .dataframe tbody tr th {\n",
       "        vertical-align: top;\n",
       "    }\n",
       "\n",
       "    .dataframe thead th {\n",
       "        text-align: right;\n",
       "    }\n",
       "</style>\n",
       "<table border=\"1\" class=\"dataframe\">\n",
       "  <thead>\n",
       "    <tr style=\"text-align: right;\">\n",
       "      <th></th>\n",
       "      <th>Top Speed</th>\n",
       "      <th>Battery Capacity</th>\n",
       "      <th>Gross Vehicle Weight (GVWR)</th>\n",
       "      <th>Electric Range</th>\n",
       "    </tr>\n",
       "  </thead>\n",
       "  <tbody>\n",
       "    <tr>\n",
       "      <th>0</th>\n",
       "      <td>185</td>\n",
       "      <td>77.4</td>\n",
       "      <td>2495</td>\n",
       "      <td>390</td>\n",
       "    </tr>\n",
       "    <tr>\n",
       "      <th>1</th>\n",
       "      <td>160</td>\n",
       "      <td>69.7</td>\n",
       "      <td>2580</td>\n",
       "      <td>330</td>\n",
       "    </tr>\n",
       "    <tr>\n",
       "      <th>2</th>\n",
       "      <td>260</td>\n",
       "      <td>93.4</td>\n",
       "      <td>2880</td>\n",
       "      <td>415</td>\n",
       "    </tr>\n",
       "    <tr>\n",
       "      <th>3</th>\n",
       "      <td>190</td>\n",
       "      <td>83.9</td>\n",
       "      <td>2605</td>\n",
       "      <td>470</td>\n",
       "    </tr>\n",
       "    <tr>\n",
       "      <th>4</th>\n",
       "      <td>160</td>\n",
       "      <td>82.0</td>\n",
       "      <td>2300</td>\n",
       "      <td>450</td>\n",
       "    </tr>\n",
       "    <tr>\n",
       "      <th>...</th>\n",
       "      <td>...</td>\n",
       "      <td>...</td>\n",
       "      <td>...</td>\n",
       "      <td>...</td>\n",
       "    </tr>\n",
       "    <tr>\n",
       "      <th>189</th>\n",
       "      <td>260</td>\n",
       "      <td>93.4</td>\n",
       "      <td>2870</td>\n",
       "      <td>400</td>\n",
       "    </tr>\n",
       "    <tr>\n",
       "      <th>190</th>\n",
       "      <td>160</td>\n",
       "      <td>82.0</td>\n",
       "      <td>2280</td>\n",
       "      <td>450</td>\n",
       "    </tr>\n",
       "    <tr>\n",
       "      <th>191</th>\n",
       "      <td>135</td>\n",
       "      <td>50.0</td>\n",
       "      <td>2440</td>\n",
       "      <td>195</td>\n",
       "    </tr>\n",
       "    <tr>\n",
       "      <th>192</th>\n",
       "      <td>180</td>\n",
       "      <td>82.0</td>\n",
       "      <td>2715</td>\n",
       "      <td>400</td>\n",
       "    </tr>\n",
       "    <tr>\n",
       "      <th>193</th>\n",
       "      <td>130</td>\n",
       "      <td>75.0</td>\n",
       "      <td>3100</td>\n",
       "      <td>265</td>\n",
       "    </tr>\n",
       "  </tbody>\n",
       "</table>\n",
       "<p>194 rows × 4 columns</p>\n",
       "</div>"
      ],
      "text/plain": [
       "     Top Speed  Battery Capacity  Gross Vehicle Weight (GVWR)  Electric Range\n",
       "0          185              77.4                         2495             390\n",
       "1          160              69.7                         2580             330\n",
       "2          260              93.4                         2880             415\n",
       "3          190              83.9                         2605             470\n",
       "4          160              82.0                         2300             450\n",
       "..         ...               ...                          ...             ...\n",
       "189        260              93.4                         2870             400\n",
       "190        160              82.0                         2280             450\n",
       "191        135              50.0                         2440             195\n",
       "192        180              82.0                         2715             400\n",
       "193        130              75.0                         3100             265\n",
       "\n",
       "[194 rows x 4 columns]"
      ]
     },
     "execution_count": 178,
     "metadata": {},
     "output_type": "execute_result"
    }
   ],
   "source": [
    "data"
   ]
  },
  {
   "cell_type": "code",
   "execution_count": null,
   "metadata": {},
   "outputs": [],
   "source": []
  }
 ],
 "metadata": {
  "kernelspec": {
   "display_name": "Python 3",
   "language": "python",
   "name": "python3"
  },
  "language_info": {
   "codemirror_mode": {
    "name": "ipython",
    "version": 3
   },
   "file_extension": ".py",
   "mimetype": "text/x-python",
   "name": "python",
   "nbconvert_exporter": "python",
   "pygments_lexer": "ipython3",
   "version": "3.10.12"
  }
 },
 "nbformat": 4,
 "nbformat_minor": 2
}
