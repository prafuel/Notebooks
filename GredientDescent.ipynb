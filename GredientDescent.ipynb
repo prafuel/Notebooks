{
 "cells": [
  {
   "cell_type": "code",
   "execution_count": 163,
   "id": "3e2a2f7a-5a12-4eb8-8f41-b593aef1f726",
   "metadata": {},
   "outputs": [],
   "source": [
    "# type of GD\n",
    "# 1. Batch GD\n",
    "# 2. Stochastic GD\n",
    "# 3. Mini Batch GD\n",
    "\n",
    "from sklearn.datasets import load_diabetes\n",
    "from sklearn.metrics import r2_score\n",
    "import numpy as np\n",
    "import pandas as pd"
   ]
  },
  {
   "cell_type": "code",
   "execution_count": 164,
   "id": "3086cc47-e4db-4ce6-84a4-11b0b51a389f",
   "metadata": {},
   "outputs": [],
   "source": [
    "data = load_diabetes()\n",
    "X = data['data']\n",
    "y = data['target']\n",
    "from sklearn.model_selection import train_test_split\n",
    "X_train, X_test, y_train, y_test = train_test_split(X, y, test_size=0.2)"
   ]
  },
  {
   "cell_type": "code",
   "execution_count": 165,
   "id": "8c9f360f-cdc2-4372-a707-a2e494f81ede",
   "metadata": {},
   "outputs": [],
   "source": [
    "class GDRegressor:\n",
    "    def __init__(self, lr=0.01, epochs=100):\n",
    "        self.coef_ = None\n",
    "        self.intercept_ = None\n",
    "        self.lr = lr\n",
    "        self.epochs = epochs\n",
    "        \n",
    "    def fit(self, X_train, y_train):\n",
    "        self.intercept_ = 0\n",
    "        self.coef_ = np.ones(X_train.shape[1])\n",
    "        \n",
    "        for i in range(self.epochs):\n",
    "            # updating intercept\n",
    "            y_hat = self.intercept_ + np.dot(X_train, self.coef_)\n",
    "            intercept_der = -2 * np.mean(y_train - y_hat)\n",
    "            self.intercept_ = self.intercept_ - (self.lr * intercept_der)\n",
    "\n",
    "            # updating coef\n",
    "            coef_der = (-2 / X_train.shape[0]) * np.dot((y_train - y_hat).T, X_train)\n",
    "            self.coef_ = self.coef_ - (self.lr * coef_der)\n",
    "        \n",
    "    def predict(self, X_test):\n",
    "        return np.dot(X_test, self.coef_) + self.intercept_"
   ]
  },
  {
   "cell_type": "code",
   "execution_count": 194,
   "id": "bf903c57-92e8-4cbb-8a61-eeeffefab27e",
   "metadata": {},
   "outputs": [],
   "source": [
    "gd = GDRegressor(lr=0.5, epochs=1000)"
   ]
  },
  {
   "cell_type": "code",
   "execution_count": 195,
   "id": "fccbfb9a-a6dd-48e0-8e93-ccc154ee3f9d",
   "metadata": {},
   "outputs": [],
   "source": [
    "gd.fit(X_train, y_train)"
   ]
  },
  {
   "cell_type": "code",
   "execution_count": 196,
   "id": "def1e6f9-2fd3-4197-9801-630bbe235480",
   "metadata": {},
   "outputs": [
    {
     "data": {
      "text/plain": [
       "(array([  18.68629753, -180.75025771,  479.96348966,  290.85078743,\n",
       "         -23.07868786, -100.03479302, -194.105972  ,  127.93930534,\n",
       "         421.14345795,  124.05057893]),\n",
       " 151.70175783980503)"
      ]
     },
     "execution_count": 196,
     "metadata": {},
     "output_type": "execute_result"
    }
   ],
   "source": [
    "(gd.coef_, gd.intercept_)"
   ]
  },
  {
   "cell_type": "code",
   "execution_count": 197,
   "id": "ae58a4e8-8e62-445d-8a7c-773726461ef9",
   "metadata": {},
   "outputs": [
    {
     "data": {
      "text/plain": [
       "0.49388135670630995"
      ]
     },
     "execution_count": 197,
     "metadata": {},
     "output_type": "execute_result"
    }
   ],
   "source": [
    "y_pred = gd.predict(X_test)\n",
    "r2_score(y_test, y_pred)"
   ]
  },
  {
   "cell_type": "code",
   "execution_count": null,
   "id": "8a2274a1-512a-47fa-b1ef-d39254584d2b",
   "metadata": {},
   "outputs": [],
   "source": [
    "# problems in Batch GD:\n",
    "# 1. Local minima -> if loss function is non-convex so there can be multiple local minima and if we start from any random point and unfortunelty it goes into local minima we will never reach to exact answer\n",
    "# 2. saddle problem for example if we try to go into hill so if we move further and at the same time we got plain area and lets say we are not sure about that there can be more height remaining so we will stops there with local minima"
   ]
  },
  {
   "cell_type": "code",
   "execution_count": null,
   "id": "3f0f101b-a69a-4496-9cd3-1e01e3621dfd",
   "metadata": {},
   "outputs": [],
   "source": []
  }
 ],
 "metadata": {
  "kernelspec": {
   "display_name": "Python 3 (ipykernel)",
   "language": "python",
   "name": "python3"
  },
  "language_info": {
   "codemirror_mode": {
    "name": "ipython",
    "version": 3
   },
   "file_extension": ".py",
   "mimetype": "text/x-python",
   "name": "python",
   "nbconvert_exporter": "python",
   "pygments_lexer": "ipython3",
   "version": "3.10.12"
  }
 },
 "nbformat": 4,
 "nbformat_minor": 5
}
